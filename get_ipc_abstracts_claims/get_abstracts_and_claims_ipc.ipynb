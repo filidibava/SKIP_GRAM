# Importing Necessary Libraries and Modules
# Importing Necessary Libraries and Modules

In this section, we import the required libraries and modules that will be used throughout the notebook. These include:
- `EPABClient` from the `epo.tipdata.epab` module, which is likely used for retrieving patent data.
- `os` for interacting with the operating system.
- `numpy` (imported as `np`) for numerical operations and data manipulation.
- `pandas` (imported as `pd`) for data manipulation and analysis.
- `re` for regular expression operations, which can be useful for text processing.

The imports are essential for setting up the environment for further data analysis and operations.

from epo.tipdata.epab import EPABClient
import os
import numpy as np
import pandas as pd
import re

def extract_texts(claims):
    return [claim['text'] for claim in claims if 'text' in claim]
def remove_brackets(text):
    if isinstance(text, list):
        return [re.sub(r'<.*?>', '', item) for item in text]
    elif isinstance(text, str):
        return re.sub(r'<.*?>', '', text)
    return text
