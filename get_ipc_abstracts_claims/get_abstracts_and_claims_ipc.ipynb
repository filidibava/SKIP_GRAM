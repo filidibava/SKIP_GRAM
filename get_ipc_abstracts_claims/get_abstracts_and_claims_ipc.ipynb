{
 "cells": [
  {
   "cell_type": "markdown",
   "id": "4d1f146f-cd41-4945-b85d-9eda2a3f80e2",
   "metadata": {},
   "source": [
    "# Importing Necessary Libraries and Modules\n",
    "\n",
    "In this section, we import the required libraries and modules that will be used throughout the notebook. These include:\n",
    "- `EPABClient` from the `epo.tipdata.epab` module, which is likely used for retrieving patent data.\n",
    "- `os` for interacting with the operating system.\n",
    "- `numpy` (imported as `np`) for numerical operations and data manipulation.\n",
    "- `pandas` (imported as `pd`) for data manipulation and analysis.\n",
    "- `re` for regular expression operations, which can be useful for text processing.\n",
    "\n",
    "The imports are essential for setting up the environment for further data analysis and operations.\n"
   ]
  },
  {
   "cell_type": "code",
   "execution_count": 15,
   "id": "ab366492-361d-45a2-8c9c-446cb1932942",
   "metadata": {},
   "outputs": [],
   "source": [
    "from epo.tipdata.epab import EPABClient\n",
    "import os\n",
    "import numpy as np\n",
    "import pandas as pd\n",
    "import re"
   ]
  },
  {
   "cell_type": "markdown",
   "id": "ba230a5e-bc7d-48eb-840b-9b0a94b687de",
   "metadata": {},
   "source": [
    "## Helper Functions for Text Processing\n",
    "\n",
    "This section defines two helper functions:\n",
    "1. `extract_texts(claims)`: This function takes a list of claim dictionaries and returns the `text` field from each dictionary, but only if the `text` key exists in that dictionary.\n",
    "   \n",
    "2. `remove_brackets(text)`: This function removes any text enclosed in angle brackets (`< >`). It can process both lists of strings and individual strings. It uses regular expressions (`re.sub`) to replace the bracketed text with an empty string.\n",
    "\n",
    "These functions are useful for cleaning and extracting relevant information from patent claims.\n"
   ]
  },
  {
   "cell_type": "code",
   "execution_count": 5,
   "id": "eedf14f7-5d94-4f84-9bdf-5d9517930b88",
   "metadata": {},
   "outputs": [],
   "source": [
    "def extract_texts(claims):\n",
    "    return [claim['text'] for claim in claims if 'text' in claim]\n",
    "def remove_brackets(text):\n",
    "    if isinstance(text, list):\n",
    "        return [re.sub(r'<.*?>', '', item) for item in text]\n",
    "    elif isinstance(text, str):\n",
    "        return re.sub(r'<.*?>', '', text)\n",
    "    return text"
   ]
  },
  {
   "cell_type": "markdown",
   "id": "e20f3239-d485-40f2-ba74-277301dc408e",
   "metadata": {},
   "source": [
    "## Initializing the EPABClient\n",
    "\n",
    "In this section, we initialize the `EPABClient` instance, which connects to the European Patent Office (EPO) data services.\n",
    "\n",
    "- The `env` parameter determines the environment the client connects to:\n",
    "  - `'TEST'`: This is a testing environment where limited data may be available for testing purposes.\n",
    "  - `'PROD'`: This would be the production environment where full data is accessible.\n",
    "\n",
    "For now, the client is set to connect to the `'TEST'` environment, but to retrieve full data, you can switch it to `'PROD'`.\n"
   ]
  },
  {
   "cell_type": "code",
   "execution_count": 17,
   "id": "92ac5320-9f72-41d3-9188-eac68df7a146",
   "metadata": {},
   "outputs": [],
   "source": [
    "epab = EPABClient(env = 'TEST')"
   ]
  },
  {
   "cell_type": "markdown",
   "id": "d282caaf-a01b-4886-890f-df558d58702d",
   "metadata": {},
   "source": [
    "## Function to Query Patent Data and Save Abstracts and Claims as Text Files\n",
    "\n",
    "This function retrieves patent abstracts in English, filters them by a specified year or range of years, and saves the abstract and claims for each publication into separate text files. \n",
    "\n",
    "### Parameters:\n",
    "- `start_year`: The starting year for the data retrieval.\n",
    "- `end_year`: The ending year for the data retrieval.\n",
    "\n",
    "For each year, a directory will be created to store the corresponding abstract and claims files.\n"
   ]
  },
  {
   "cell_type": "code",
   "execution_count": 30,
   "id": "3b362b1f-ec87-4f9e-8d5f-6aa244203c63",
   "metadata": {},
   "outputs": [],
   "source": [
    "def process_and_save_patent_abstracts_and_claims(start_year, end_year):\n",
    "    # Query abstracts in English\n",
    "    q = epab.query_abstract_language(\"en\")\n",
    "    \n",
    "    # Loop through the range of years\n",
    "    for year in range(start_year, end_year + 1):\n",
    "        # Create a directory for the current year\n",
    "        new_folder_path = str(year)\n",
    "        os.makedirs(new_folder_path, exist_ok=True)\n",
    "        output_folder = new_folder_path\n",
    "        \n",
    "        # Query publications for the current year\n",
    "        p = epab.query_publication_date(str(year) + \"%\")\n",
    "        s = q & p\n",
    "        # s represents the data with English abstracts for the current year\n",
    "        \n",
    "        # Fetch results in a DataFrame\n",
    "        df = s.get_results(\"title.en,publication,ipc,abstract.text,claims\", output_type=\"dataframe\")\n",
    "        df['abstract.text'] = df['abstract.text'].apply(remove_brackets)\n",
    "        \n",
    "        # Iterate over each row in the DataFrame\n",
    "        for _, row in df.iterrows():\n",
    "            pub_number = row['publication.number']\n",
    "            \n",
    "            # Check that 'claims' and 'abstract.text' are non-empty\n",
    "            if row['claims'] and row['abstract.text']:\n",
    "                # Define filenames for abstract and claims\n",
    "                abstract_filename = os.path.join(output_folder, f'{pub_number}_abstract.txt')\n",
    "                claims_filename = os.path.join(output_folder, f'{pub_number}_claims.txt')\n",
    "                \n",
    "                # Extract and clean abstract and claims text\n",
    "                abstract = row['abstract.text']\n",
    "                claims = row['claims'][0]['text']\n",
    "                claims_ = remove_brackets(claims)\n",
    "                \n",
    "                # Save the claims content to a text file\n",
    "                with open(claims_filename, 'w') as claims_file:\n",
    "                    claims_file.write(claims_)\n",
    "                \n",
    "                # Save the abstract content to a text file\n",
    "                with open(abstract_filename, 'w') as abstract_file:\n",
    "                    abstract_file.write(abstract)\n",
    "        \n",
    "        print(f\"Data for the year {year} has been processed and saved.\")\n"
   ]
  },
  {
   "cell_type": "code",
   "execution_count": 31,
   "id": "005d3cc1-174a-49b9-aba8-7ee08a5bc660",
   "metadata": {},
   "outputs": [
    {
     "name": "stdout",
     "output_type": "stream",
     "text": [
      "Data for the year 1982 has been processed and saved.\n"
     ]
    }
   ],
   "source": [
    "process_and_save_patent_abstracts_and_claims(1982,1982)"
   ]
  },
  {
   "cell_type": "markdown",
   "id": "43f6ea33-c65c-4b6c-863e-e7ec4c8808ac",
   "metadata": {},
   "source": [
    "## Function to Query and Process Patent Data Over a Specified Year Range\n",
    "\n",
    "This function retrieves patent data with abstracts in English and a publication date within a given year range. It performs the following steps:\n",
    "1. **Queries the EPABClient** to retrieve patent abstracts in English and filters them by the desired publication date range.\n",
    "2. **Cleans and processes the data**, removing unwanted HTML tags and extracting claim texts.\n",
    "3. **Saves the result** in a compressed CSV file for further analysis.\n",
    "\n",
    "### Parameters:\n",
    "- `start_year`: The first year of the desired range.\n",
    "- `end_year`: The last year of the desired range.\n",
    "- The processed data is saved in a zip file where the filename includes the year range."
   ]
  },
  {
   "cell_type": "code",
   "execution_count": 21,
   "id": "610afb54-3992-4cdc-87cc-27abf5f843f5",
   "metadata": {},
   "outputs": [],
   "source": [
    "def process_patent_data(start_year, end_year):\n",
    "    # Query abstracts in English\n",
    "    q = epab.query_abstract_language(\"en\")\n",
    "    # Query publications in the given range of years\n",
    "    p = epab.query_publication_date(f\"{start_year}0101-{end_year}1231\")\n",
    "    # Combine the queries\n",
    "    s = q & p\n",
    "    \n",
    "    # Get results and convert them to a DataFrame\n",
    "    df = s.get_results(\"title.en,publication,ipc,abstract.text,claims\", output_type=\"dataframe\")\n",
    "    \n",
    "    # Clean the abstract texts and claims\n",
    "    df['abstract.text'] = df['abstract.text'].apply(remove_brackets)\n",
    "    df['claims'] = df['claims'].apply(extract_texts)\n",
    "    df['claims'] = df['claims'].apply(remove_brackets)\n",
    "    \n",
    "    # Filter out rows without claims\n",
    "    df = df[df['claims'].apply(lambda x: len(x) > 0)].reset_index(drop=True)\n",
    "    \n",
    "    # Take the claims from the list\n",
    "    df['claims'] = df['claims'].apply(lambda x: x[0])\n",
    "    \n",
    "    # Drop unnecessary publication columns\n",
    "    df = df.drop(columns=['publication.country', 'publication.kind', 'publication.language'])\n",
    "    \n",
    "    # Extract only the 'symbol' field from the 'ipc' column\n",
    "    df['ipc'] = df['ipc'].apply(lambda x: [item['symbol'] for item in x])\n",
    "    \n",
    "    # Define the name for the CSV file inside the ZIP archive\n",
    "    csv_file_in_zip = f'{start_year}_{end_year}_all_data.csv'\n",
    "    \n",
    "    # Save the DataFrame as a zipped CSV file\n",
    "    zip_filename = f'{start_year}_{end_year}_all_data.zip'\n",
    "    df.to_csv(zip_filename, index=False, compression=dict(method='zip', archive_name=csv_file_in_zip))\n",
    "    \n",
    "    print(f\"Data from {start_year} to {end_year} has been saved to {zip_filename}.\")"
   ]
  },
  {
   "cell_type": "code",
   "execution_count": 22,
   "id": "2bbfa313-6069-4d59-8e22-ff80c3d9392b",
   "metadata": {},
   "outputs": [
    {
     "name": "stdout",
     "output_type": "stream",
     "text": [
      "Data from 1982 to 1982 has been saved to 1982_1982_all_data.zip.\n"
     ]
    }
   ],
   "source": [
    "process_patent_data(1982,1982)"
   ]
  },
  {
   "cell_type": "code",
   "execution_count": null,
   "id": "09c79351-5e65-4572-aa30-635667ec4c1c",
   "metadata": {},
   "outputs": [],
   "source": []
  }
 ],
 "metadata": {
  "kernelspec": {
   "display_name": "Python 3 (ipykernel)",
   "language": "python",
   "name": "python3"
  },
  "language_info": {
   "codemirror_mode": {
    "name": "ipython",
    "version": 3
   },
   "file_extension": ".py",
   "mimetype": "text/x-python",
   "name": "python",
   "nbconvert_exporter": "python",
   "pygments_lexer": "ipython3",
   "version": "3.11.10"
  }
 },
 "nbformat": 4,
 "nbformat_minor": 5
}
